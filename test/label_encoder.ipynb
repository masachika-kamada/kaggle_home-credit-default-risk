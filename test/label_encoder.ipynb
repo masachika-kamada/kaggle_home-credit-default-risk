{
 "cells": [
  {
   "cell_type": "code",
   "execution_count": 1,
   "id": "077d2852-44f9-4b7a-be23-eca78859c930",
   "metadata": {},
   "outputs": [],
   "source": [
    "import pandas as pd\n",
    "import numpy as np\n",
    "import matplotlib.pyplot as plt\n",
    "import seaborn as sns\n",
    "from sklearn.ensemble import RandomForestRegressor\n",
    "from sklearn.pipeline import Pipeline,make_pipeline\n",
    "from sklearn.ensemble import RandomForestClassifier\n",
    "from sklearn.feature_selection import SelectKBest\n",
    "from sklearn import model_selection\n",
    "from sklearn.model_selection import GridSearchCV\n",
    "from sklearn.preprocessing import LabelEncoder\n",
    "import warnings\n",
    "warnings.filterwarnings('ignore')\n",
    "import os"
   ]
  },
  {
   "cell_type": "code",
   "execution_count": 8,
   "id": "79a8304c-043f-47e9-8705-e43c4ba88978",
   "metadata": {},
   "outputs": [],
   "source": [
    "app_train = pd.read_csv(\"../csv-data/application_train.csv\")"
   ]
  },
  {
   "cell_type": "code",
   "execution_count": 4,
   "id": "b2bdb649-4caa-4cdf-ba1c-88311385c682",
   "metadata": {},
   "outputs": [
    {
     "data": {
      "text/plain": [
       "<AxesSubplot:ylabel='Frequency'>"
      ]
     },
     "execution_count": 4,
     "metadata": {},
     "output_type": "execute_result"
    },
    {
     "data": {
      "image/png": "[encoded data removed]",
      "text/plain": [
       "<Figure size 432x288 with 1 Axes>"
      ]
     },
     "metadata": {
      "needs_background": "light"
     },
     "output_type": "display_data"
    }
   ],
   "source": [
    "app_train['TARGET'].value_counts()\n",
    "app_train['TARGET'].astype(int).plot.hist()"
   ]
  },
  {
   "cell_type": "code",
   "execution_count": 5,
   "id": "c10d6135-a915-466e-a709-84d549fd6d55",
   "metadata": {},
   "outputs": [
    {
     "data": {
      "text/plain": [
       "NAME_CONTRACT_TYPE             2\n",
       "CODE_GENDER                    3\n",
       "FLAG_OWN_CAR                   2\n",
       "FLAG_OWN_REALTY                2\n",
       "NAME_TYPE_SUITE                7\n",
       "NAME_INCOME_TYPE               8\n",
       "NAME_EDUCATION_TYPE            5\n",
       "NAME_FAMILY_STATUS             6\n",
       "NAME_HOUSING_TYPE              6\n",
       "OCCUPATION_TYPE               18\n",
       "WEEKDAY_APPR_PROCESS_START     7\n",
       "ORGANIZATION_TYPE             58\n",
       "FONDKAPREMONT_MODE             4\n",
       "HOUSETYPE_MODE                 3\n",
       "WALLSMATERIAL_MODE             7\n",
       "EMERGENCYSTATE_MODE            2\n",
       "dtype: int64"
      ]
     },
     "execution_count": 5,
     "metadata": {},
     "output_type": "execute_result"
    }
   ],
   "source": [
    "app_train.select_dtypes('object').apply(pd.Series.nunique, axis = 0)"
   ]
  },
  {
   "cell_type": "markdown",
   "id": "e1628162-8228-4f27-85da-1aa05da3313c",
   "metadata": {},
   "source": [
    "## 2種類の文字列で表されている列に関してone-hot表現に変換"
   ]
  },
  {
   "cell_type": "code",
   "execution_count": 6,
   "id": "475b8d23-bfa6-413e-aed7-c0a95538cdab",
   "metadata": {},
   "outputs": [
    {
     "name": "stdout",
     "output_type": "stream",
     "text": [
      "['Cash loans' 'Revolving loans']\n",
      "[0 1]\n",
      "['N' 'Y']\n",
      "[0 1]\n",
      "['Y' 'N']\n",
      "[1 0]\n",
      "3 columns were label encoded.\n"
     ]
    }
   ],
   "source": [
    "le = LabelEncoder()\n",
    "le_count = 0\n",
    "\n",
    "for col in app_train:  # pandas.DataFrameをそのままforループに入れるとカラム名が順に取り出される\n",
    "    # print(col)\n",
    "    if app_train[col].dtype == 'object':  # app_train[col]でその列の値を取得できる, str型のみ\n",
    "        # print(app_train[col])\n",
    "        # print(f\"----------------------------{len(app_train[col].unique())}\")\n",
    "        if len(list(app_train[col].unique())) <= 2:  # unique()で圧縮, set型と同じような処理, 結果はnumpy.ndarray型でlistにキャストしなくてもlenを適用できる\n",
    "            print(app_train[col].unique())\n",
    "            le.fit(app_train[col])  # ラベルとラベルIDの対応づけ, e.g.['Cash loans' 'Revolving loans']と[0 1]の対応\n",
    "            app_train[col] = le.transform(app_train[col])  # ラベル->ラベルIDの変換\n",
    "            print(app_train[col].unique())\n",
    "            le_count += 1\n",
    "\n",
    "print('%d columns were label encoded.' % le_count)"
   ]
  },
  {
   "cell_type": "code",
   "execution_count": 14,
   "id": "b33c05ae-dd6a-486f-baf5-a64906305f20",
   "metadata": {},
   "outputs": [
    {
     "name": "stdout",
     "output_type": "stream",
     "text": [
      "<class 'pandas.core.series.Series'>\n",
      "NAME_CONTRACT_TYPE             2\n",
      "CODE_GENDER                    3\n",
      "FLAG_OWN_CAR                   2\n",
      "FLAG_OWN_REALTY                2\n",
      "NAME_TYPE_SUITE                7\n",
      "NAME_INCOME_TYPE               8\n",
      "NAME_EDUCATION_TYPE            5\n",
      "NAME_FAMILY_STATUS             6\n",
      "NAME_HOUSING_TYPE              6\n",
      "OCCUPATION_TYPE               18\n",
      "WEEKDAY_APPR_PROCESS_START     7\n",
      "ORGANIZATION_TYPE             58\n",
      "FONDKAPREMONT_MODE             4\n",
      "HOUSETYPE_MODE                 3\n",
      "WALLSMATERIAL_MODE             7\n",
      "EMERGENCYSTATE_MODE            2\n",
      "dtype: int64\n",
      "Index(['NAME_CONTRACT_TYPE', 'CODE_GENDER', 'FLAG_OWN_CAR', 'FLAG_OWN_REALTY',\n",
      "       'NAME_TYPE_SUITE', 'NAME_INCOME_TYPE', 'NAME_EDUCATION_TYPE',\n",
      "       'NAME_FAMILY_STATUS', 'NAME_HOUSING_TYPE', 'OCCUPATION_TYPE',\n",
      "       'WEEKDAY_APPR_PROCESS_START', 'ORGANIZATION_TYPE', 'FONDKAPREMONT_MODE',\n",
      "       'HOUSETYPE_MODE', 'WALLSMATERIAL_MODE', 'EMERGENCYSTATE_MODE'],\n",
      "      dtype='object')\n",
      "2\n"
     ]
    }
   ],
   "source": [
    "unique_count = app_train.select_dtypes('object').apply(pd.Series.nunique, axis=0)\n",
    "print(type(unique_count))\n",
    "print(unique_count)\n",
    "print(unique_count.index)\n",
    "print(unique_count['NAME_CONTRACT_TYPE'])"
   ]
  },
  {
   "cell_type": "code",
   "execution_count": 38,
   "id": "052306fc",
   "metadata": {},
   "outputs": [
    {
     "name": "stdout",
     "output_type": "stream",
     "text": [
      "                   column_name n_variation  \\\n",
      "2                 FLAG_OWN_CAR           2   \n",
      "3              FLAG_OWN_REALTY           2   \n",
      "15         EMERGENCYSTATE_MODE           2   \n",
      "1                  CODE_GENDER           3   \n",
      "13              HOUSETYPE_MODE           3   \n",
      "12          FONDKAPREMONT_MODE           4   \n",
      "6          NAME_EDUCATION_TYPE           5   \n",
      "7           NAME_FAMILY_STATUS           6   \n",
      "8            NAME_HOUSING_TYPE           6   \n",
      "4              NAME_TYPE_SUITE           7   \n",
      "10  WEEKDAY_APPR_PROCESS_START           7   \n",
      "14          WALLSMATERIAL_MODE           7   \n",
      "5             NAME_INCOME_TYPE           8   \n",
      "9              OCCUPATION_TYPE          18   \n",
      "11           ORGANIZATION_TYPE          58   \n",
      "\n",
      "                                               values  \n",
      "2                                              [N, Y]  \n",
      "3                                              [Y, N]  \n",
      "15                                     [No, nan, Yes]  \n",
      "1                                         [M, F, XNA]  \n",
      "13  [block of flats, nan, terraced house, specific...  \n",
      "12  [reg oper account, nan, org spec account, reg ...  \n",
      "6   [Secondary / secondary special, Higher educati...  \n",
      "7   [Single / not married, Married, Civil marriage...  \n",
      "8   [House / apartment, Rented apartment, With par...  \n",
      "4   [Unaccompanied, Family, Spouse, partner, Child...  \n",
      "10  [WEDNESDAY, MONDAY, THURSDAY, SUNDAY, SATURDAY...  \n",
      "14  [Stone, brick, Block, nan, Panel, Mixed, Woode...  \n",
      "5   [Working, State servant, Commercial associate,...  \n",
      "9                                                None  \n",
      "11                                               None  \n"
     ]
    }
   ],
   "source": [
    "def display_categorical_features(df, thresh=10):\n",
    "    results = pd.DataFrame(columns=['column_name', 'n_variation', 'values'])\n",
    "    unique_count = df.select_dtypes('object').apply(pd.Series.nunique, axis=0)\n",
    "    for idx in unique_count.index:\n",
    "        if unique_count[idx] <= thresh:\n",
    "            # print(f\"{idx}\\t{unique_count[idx]}\\t{df[idx].unique()}\")\n",
    "            result = pd.Series([idx, unique_count[idx], df[idx].unique()], index=results.columns)\n",
    "            results = results.append(result, ignore_index=True)\n",
    "        else:\n",
    "            result = pd.Series([idx, unique_count[idx], None], index=results.columns)\n",
    "            results = results.append(result, ignore_index=True)\n",
    "            # results = results.append([idx, unique_count[idx], df[idx].unique()])\n",
    "    results = results.sort_values('n_variation')\n",
    "    print(results[:][1:])\n",
    "    results.to_csv(\"categorical-features.csv\")\n",
    "\n",
    "display_categorical_features(app_train)"
   ]
  }
 ],
 "metadata": {
  "interpreter": {
   "hash": "e2ecdb93e1b4b6025ad3c17bf1e82710492b7a625738b8ce59694b20b51dba53"
  },
  "kernelspec": {
   "display_name": "Python 3.9.12 ('kaggle')",
   "language": "python",
   "name": "python3"
  },
  "language_info": {
   "codemirror_mode": {
    "name": "ipython",
    "version": 3
   },
   "file_extension": ".py",
   "mimetype": "text/x-python",
   "name": "python",
   "nbconvert_exporter": "python",
   "pygments_lexer": "ipython3",
   "version": "3.9.12"
  }
 },
 "nbformat": 4,
 "nbformat_minor": 5
}
