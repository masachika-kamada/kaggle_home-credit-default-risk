{
 "cells": [
  {
   "cell_type": "code",
   "execution_count": 13,
   "metadata": {},
   "outputs": [
    {
     "name": "stdout",
     "output_type": "stream",
     "text": [
      "   A  B         C\n",
      "0  1  1  0.288478\n",
      "1  1  2 -0.112854\n",
      "2  2  3 -0.042016\n",
      "3  2  4 -1.864002\n",
      "4  3  5 -0.190329\n",
      "   A         C\n",
      "0  1  0.747365\n",
      "1  4 -1.580270\n",
      "2  2 -1.017627\n",
      "3  2 -0.770833\n",
      "4  3 -1.159829\n"
     ]
    }
   ],
   "source": [
    "import pandas as pd\n",
    "import numpy as np\n",
    "df = pd.DataFrame({'A': [1, 1, 2, 2, 3, 3, 4, 5, 5, 5],\n",
    "                   'B': [1, 2, 3, 4, 5, 6, 7, 8, 9, 10],\n",
    "                   'C': np.random.randn(10)})\n",
    "print(df.head())\n",
    "test_df = pd.DataFrame({'A': [1, 4, 2, 2, 3, 3, 4, 5, 5, 5],\n",
    "                        'C': np.random.randn(10)})\n",
    "print(test_df.head())"
   ]
  },
  {
   "cell_type": "code",
   "execution_count": 14,
   "metadata": {},
   "outputs": [
    {
     "name": "stdout",
     "output_type": "stream",
     "text": [
      "    index  A     B         C\n",
      "0       0  1   1.0  0.288478\n",
      "1       1  1   2.0 -0.112854\n",
      "2       2  2   3.0 -0.042016\n",
      "3       3  2   4.0 -1.864002\n",
      "4       4  3   5.0 -0.190329\n",
      "5       5  3   6.0  1.417145\n",
      "6       6  4   7.0 -0.475687\n",
      "7       7  5   8.0 -1.348023\n",
      "8       8  5   9.0 -1.155253\n",
      "9       9  5  10.0  2.165479\n",
      "10      0  1   NaN  0.747365\n",
      "11      1  4   NaN -1.580270\n",
      "12      2  2   NaN -1.017627\n",
      "13      3  2   NaN -0.770833\n",
      "14      4  3   NaN -1.159829\n",
      "15      5  3   NaN -1.157462\n",
      "16      6  4   NaN  0.122115\n",
      "17      7  5   NaN -2.122265\n",
      "18      8  5   NaN  0.667314\n",
      "19      9  5   NaN  0.859682\n"
     ]
    },
    {
     "name": "stderr",
     "output_type": "stream",
     "text": [
      "C:\\Users\\MK\\AppData\\Local\\Temp\\ipykernel_8608\\4256073565.py:1: FutureWarning: The frame.append method is deprecated and will be removed from pandas in a future version. Use pandas.concat instead.\n",
      "  df_new = df.append(test_df).reset_index()\n"
     ]
    }
   ],
   "source": [
    "df_new = df.append(test_df).reset_index()\n",
    "print(df_new)"
   ]
  },
  {
   "cell_type": "code",
   "execution_count": 16,
   "metadata": {},
   "outputs": [
    {
     "name": "stdout",
     "output_type": "stream",
     "text": [
      "    index  A     B         C\n",
      "0       0  1   1.0  0.288478\n",
      "1       1  1   2.0 -0.112854\n",
      "2       2  2   3.0 -0.042016\n",
      "3       3  2   4.0 -1.864002\n",
      "4       4  3   5.0 -0.190329\n",
      "5       5  3   6.0  1.417145\n",
      "6       6  4   7.0 -0.475687\n",
      "7       7  5   8.0 -1.348023\n",
      "8       8  5   9.0 -1.155253\n",
      "9       9  5  10.0  2.165479\n",
      "10      0  1   NaN  0.747365\n",
      "11      1  4   NaN -1.580270\n",
      "12      2  2   NaN -1.017627\n",
      "13      3  2   NaN -0.770833\n",
      "14      4  3   NaN -1.159829\n",
      "15      5  3   NaN -1.157462\n",
      "16      6  4   NaN  0.122115\n",
      "17      7  5   NaN -2.122265\n",
      "18      8  5   NaN  0.667314\n",
      "19      9  5   NaN  0.859682\n"
     ]
    }
   ],
   "source": [
    "df_new2 = pd.concat([df, test_df]).reset_index()\n",
    "print(df_new2)"
   ]
  }
 ],
 "metadata": {
  "interpreter": {
   "hash": "e2ecdb93e1b4b6025ad3c17bf1e82710492b7a625738b8ce59694b20b51dba53"
  },
  "kernelspec": {
   "display_name": "Python 3.9.12 ('kaggle')",
   "language": "python",
   "name": "python3"
  },
  "language_info": {
   "codemirror_mode": {
    "name": "ipython",
    "version": 3
   },
   "file_extension": ".py",
   "mimetype": "text/x-python",
   "name": "python",
   "nbconvert_exporter": "python",
   "pygments_lexer": "ipython3",
   "version": "3.9.12"
  },
  "orig_nbformat": 4
 },
 "nbformat": 4,
 "nbformat_minor": 2
}
