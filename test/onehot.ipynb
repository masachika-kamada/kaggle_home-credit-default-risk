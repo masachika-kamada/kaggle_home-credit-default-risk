{
 "cells": [
  {
   "cell_type": "code",
   "execution_count": 12,
   "metadata": {},
   "outputs": [],
   "source": [
    "import pandas as pd\n",
    "\n",
    "def one_hot_encoder(df, nan_as_category=True):\n",
    "    original_columns = list(df.columns)\n",
    "    categorical_columns = [\n",
    "        col for col in df.columns if df[col].dtype == 'object']\n",
    "    for col in df.columns:\n",
    "        print(col, df[col])\n",
    "        if df[col].dtype == 'object':\n",
    "            print(df[col])\n",
    "    print(categorical_columns)\n",
    "    df = pd.get_dummies(df, columns=categorical_columns, dummy_na=nan_as_category)\n",
    "    print(df)\n",
    "    new_columns = [c for c in df.columns if c not in original_columns]\n",
    "    return df, new_columns"
   ]
  },
  {
   "cell_type": "code",
   "execution_count": 13,
   "metadata": {},
   "outputs": [
    {
     "name": "stdout",
     "output_type": "stream",
     "text": [
      "   A  B     C\n",
      "0  1  a     k\n",
      "1  2  b     k\n",
      "2  3  c     k\n",
      "3  4  a     m\n",
      "4  5  c     m\n",
      "5  6  b  None\n",
      "A 0    1\n",
      "1    2\n",
      "2    3\n",
      "3    4\n",
      "4    5\n",
      "5    6\n",
      "Name: A, dtype: int64\n",
      "B 0    a\n",
      "1    b\n",
      "2    c\n",
      "3    a\n",
      "4    c\n",
      "5    b\n",
      "Name: B, dtype: object\n",
      "0    a\n",
      "1    b\n",
      "2    c\n",
      "3    a\n",
      "4    c\n",
      "5    b\n",
      "Name: B, dtype: object\n",
      "C 0       k\n",
      "1       k\n",
      "2       k\n",
      "3       m\n",
      "4       m\n",
      "5    None\n",
      "Name: C, dtype: object\n",
      "0       k\n",
      "1       k\n",
      "2       k\n",
      "3       m\n",
      "4       m\n",
      "5    None\n",
      "Name: C, dtype: object\n",
      "['B', 'C']\n",
      "   A  B_a  B_b  B_c  B_nan  C_k  C_m  C_nan\n",
      "0  1    1    0    0      0    1    0      0\n",
      "1  2    0    1    0      0    1    0      0\n",
      "2  3    0    0    1      0    1    0      0\n",
      "3  4    1    0    0      0    0    1      0\n",
      "4  5    0    0    1      0    0    1      0\n",
      "5  6    0    1    0      0    0    0      1\n",
      "   A  B_a  B_b  B_c  B_nan  C_k  C_m  C_nan\n",
      "0  1    1    0    0      0    1    0      0\n",
      "1  2    0    1    0      0    1    0      0\n",
      "2  3    0    0    1      0    1    0      0\n",
      "3  4    1    0    0      0    0    1      0\n",
      "4  5    0    0    1      0    0    1      0\n",
      "5  6    0    1    0      0    0    0      1\n"
     ]
    }
   ],
   "source": [
    "df = pd.DataFrame({'A': list(range(1, 7)),\n",
    "                   'B': [\"a\", \"b\", \"c\", \"a\", \"c\", \"b\"],\n",
    "                   'C': [\"k\", \"k\", \"k\", \"m\", \"m\", None]\n",
    "                   })\n",
    "print(df)\n",
    "\n",
    "df_onehot, new_c = one_hot_encoder(df)\n",
    "print(df_onehot)"
   ]
  }
 ],
 "metadata": {
  "interpreter": {
   "hash": "e2ecdb93e1b4b6025ad3c17bf1e82710492b7a625738b8ce59694b20b51dba53"
  },
  "kernelspec": {
   "display_name": "Python 3.9.12 ('kaggle')",
   "language": "python",
   "name": "python3"
  },
  "language_info": {
   "codemirror_mode": {
    "name": "ipython",
    "version": 3
   },
   "file_extension": ".py",
   "mimetype": "text/x-python",
   "name": "python",
   "nbconvert_exporter": "python",
   "pygments_lexer": "ipython3",
   "version": "3.9.12"
  },
  "orig_nbformat": 4
 },
 "nbformat": 4,
 "nbformat_minor": 2
}
